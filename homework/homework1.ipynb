{
 "cells": [
  {
   "cell_type": "markdown",
   "metadata": {},
   "source": [
    "1. 编写Python程序，打印\"数据科学与工程导论\"，并使用 print(chr(0x2605)) 语句将星星包围起来。"
   ]
  },
  {
   "cell_type": "code",
   "execution_count": 1,
   "metadata": {},
   "outputs": [
    {
     "name": "stdout",
     "output_type": "stream",
     "text": [
      "★★★★★★★★★★★\n",
      "★数据科学与工程导论★\n",
      "★★★★★★★★★★★\n"
     ]
    }
   ],
   "source": [
    "A=\"数据科学与工程导论\"\n",
    "a=len(A)\n",
    "print((a+2)*chr(0x2605))\n",
    "print(chr(0x2605)+A+chr(0x2605))\n",
    "print((a+2)*chr(0x2605))"
   ]
  },
  {
   "cell_type": "markdown",
   "metadata": {},
   "source": [
    "2. 写一个 Python 程序，输入 x, y, z 这三个数，将这三个数从小到大使用 print 函数打印出来。"
   ]
  },
  {
   "cell_type": "code",
   "execution_count": 2,
   "metadata": {},
   "outputs": [
    {
     "name": "stdout",
     "output_type": "stream",
     "text": [
      "3.45<3.54<7.1\n"
     ]
    }
   ],
   "source": [
    "numbers = []\n",
    "for i in range(3):\n",
    "    n = input(\"请输入第{}个数\".format(i+1))\n",
    "    numbers.append(n)\n",
    "numbers=sorted(numbers)\n",
    "print(\"{}<{}<{}\".format(numbers[0], numbers[1], numbers[2]))\n"
   ]
  },
  {
   "cell_type": "markdown",
   "metadata": {},
   "source": [
    "3. 写一个 Python 程序，有 w, x, y, z 四个数，将这四个数从大到小使用 print 函数打印出来。"
   ]
  },
  {
   "cell_type": "code",
   "execution_count": 3,
   "metadata": {},
   "outputs": [
    {
     "name": "stdout",
     "output_type": "stream",
     "text": [
      "6.7>3.5>2.2>2.1\n"
     ]
    }
   ],
   "source": [
    "numbers = []\n",
    "for i in range(4):\n",
    "    n = input(\"请输入第{}个数\".format(i+1))\n",
    "    numbers.append(n)\n",
    "numbers=sorted(numbers,reverse=True)\n",
    "print(\"{}>{}>{}>{}\".format(numbers[0], numbers[1], numbers[2],numbers[3]))"
   ]
  },
  {
   "cell_type": "markdown",
   "metadata": {},
   "source": [
    "4. 写一个 Python 程序，输出 1-100 中的所有奇数。"
   ]
  },
  {
   "cell_type": "code",
   "execution_count": 4,
   "metadata": {},
   "outputs": [
    {
     "name": "stdout",
     "output_type": "stream",
     "text": [
      "1\n",
      "3\n",
      "5\n",
      "7\n",
      "9\n",
      "11\n",
      "13\n",
      "15\n",
      "17\n",
      "19\n",
      "21\n",
      "23\n",
      "25\n",
      "27\n",
      "29\n",
      "31\n",
      "33\n",
      "35\n",
      "37\n",
      "39\n",
      "41\n",
      "43\n",
      "45\n",
      "47\n",
      "49\n",
      "51\n",
      "53\n",
      "55\n",
      "57\n",
      "59\n",
      "61\n",
      "63\n",
      "65\n",
      "67\n",
      "69\n",
      "71\n",
      "73\n",
      "75\n",
      "77\n",
      "79\n",
      "81\n",
      "83\n",
      "85\n",
      "87\n",
      "89\n",
      "91\n",
      "93\n",
      "95\n",
      "97\n",
      "99\n"
     ]
    }
   ],
   "source": [
    "for i in range(1, 100):\n",
    "    if i % 2 == 1:\n",
    "        print(i)"
   ]
  },
  {
   "cell_type": "markdown",
   "metadata": {},
   "source": [
    "5. 写一个 Python 程序，用 for 循环，求解 1 到 100 的和。"
   ]
  },
  {
   "cell_type": "code",
   "execution_count": 5,
   "metadata": {},
   "outputs": [
    {
     "name": "stdout",
     "output_type": "stream",
     "text": [
      "5050\n"
     ]
    }
   ],
   "source": [
    "\n",
    "def summary(a,b):\n",
    "    Sum=a+b\n",
    "    return Sum\n",
    "\n",
    "s=0\n",
    "for i in range(1,101):\n",
    "    s=summary(s,i)\n",
    "print(s)"
   ]
  },
  {
   "cell_type": "markdown",
   "metadata": {},
   "source": [
    "6. 写一个 Python 程序，分别用 for 和 while 循环实现对一个给定序列的倒排序输出。例如，给定 L=[1,2,3,4,5]，输出为 [5,4,3,2,1]。"
   ]
  },
  {
   "cell_type": "code",
   "execution_count": 6,
   "metadata": {},
   "outputs": [
    {
     "name": "stdout",
     "output_type": "stream",
     "text": [
      "[1, 2, 3, 4, 5]\n",
      "[1, 2, 3, 4, 5]\n"
     ]
    }
   ],
   "source": [
    "L=[5,4,3,2,1]\n",
    "n=len(L)\n",
    "l=[]\n",
    "for i in range(n-1,-1,-1):\n",
    "    l.append(L[i])\n",
    "print(l)\n",
    "\n",
    "m=[]\n",
    "j=n-1\n",
    "while(j>=0):\n",
    "    m.append(L[j])\n",
    "    j=j-1\n",
    "print(m)"
   ]
  },
  {
   "cell_type": "markdown",
   "metadata": {},
   "source": [
    "7. 写一个 Python 程序，判断一个输入的字符串 S 是否包含由两个或两个以上连续出现的相同字符组成的字符串。例如，abccccda 中就包含 cccc 这个由 4 个连续字符组成的字符串。"
   ]
  },
  {
   "cell_type": "code",
   "execution_count": 7,
   "metadata": {},
   "outputs": [
    {
     "name": "stdout",
     "output_type": "stream",
     "text": [
      "字符串包含2个及以上连续相同字符。\n"
     ]
    }
   ],
   "source": [
    "\n",
    "S = input(\"请输入字符串：\")\n",
    "re = False\n",
    "\n",
    "for i in range(len(S) - 1):\n",
    "    if S[i] == S[i + 1]:  \n",
    "        re = True\n",
    "        break\n",
    "\n",
    "if re:\n",
    "    print(\"字符串包含2个及以上连续相同字符。\")\n",
    "else:\n",
    "    print(\"字符串不包含连续相同字符。\")"
   ]
  },
  {
   "cell_type": "markdown",
   "metadata": {},
   "source": [
    "8. 写一个 Python 程序，输入一个字符串 S，去掉其中所有的空格后输出。例如，“DataScience and Engineering”，去掉空格后为“DataScienceandEngineering”。"
   ]
  },
  {
   "cell_type": "code",
   "execution_count": 8,
   "metadata": {},
   "outputs": [
    {
     "name": "stdout",
     "output_type": "stream",
     "text": [
      "DataScienceandEngineering\n"
     ]
    }
   ],
   "source": [
    "S=input(\"请输入字符串\")\n",
    "S=S.replace(\" \",\"\")\n",
    "print(S)"
   ]
  },
  {
   "cell_type": "markdown",
   "metadata": {},
   "source": [
    "9. 请设计一个求 3 次方根的算法（不允许直接调用求方根的函数），并给出对应的 Python 程序。\n",
    "采用牛顿迭代法求解，迭代过程数学公式表示为：\n",
    "$ x_{n+1}=x_n-\\frac{f(x_n)}{f^{\\prime}(x_n)}$"
   ]
  },
  {
   "cell_type": "code",
   "execution_count": 15,
   "metadata": {},
   "outputs": [
    {
     "name": "stdout",
     "output_type": "stream",
     "text": [
      "9.0 的三次方根是 2.08\n"
     ]
    }
   ],
   "source": [
    "def fun(a, tolerance=1e-7, max=1000):\n",
    "    # 初始猜测\n",
    "    xn = a / 3\n",
    "\n",
    "    for i in range(0,max):\n",
    "        fxn = xn ** 3 - a\n",
    "        fpxn = 3 * (xn ** 2)\n",
    "        xn1 = xn - fxn / fpxn\n",
    "        if abs(xn1 - xn) < tolerance:\n",
    "            return xn1\n",
    "\n",
    "        xn = xn1\n",
    "\n",
    "    return xn\n",
    "\n",
    "a = float(input(\"请输入一个数\"))\n",
    "result = fun(a)\n",
    "print(f\"{a} 的三次方根是 {result:.2f}\")"
   ]
  },
  {
   "cell_type": "markdown",
   "metadata": {},
   "source": [
    "10. 写一个 Python 程序，给定一个常数 n（n>0），求 n 的阶乘，即 n!=1×2×...×(n-1)×n。例如，4!=24，5!=120。"
   ]
  },
  {
   "cell_type": "code",
   "execution_count": 14,
   "metadata": {},
   "outputs": [
    {
     "name": "stdout",
     "output_type": "stream",
     "text": [
      "5!=120\n"
     ]
    }
   ],
   "source": [
    "def JC(n):\n",
    "    result = 1\n",
    "    for i in range(0,n):\n",
    "        result = result * (i+1)\n",
    "    return result\n",
    "\n",
    "a=int(input(\"请输入一个大于零的常数\"))\n",
    "print(\"{}!={}\".format(a,JC(a)))"
   ]
  }
 ],
 "metadata": {
  "kernelspec": {
   "display_name": "Python 3",
   "language": "python",
   "name": "python3"
  },
  "language_info": {
   "codemirror_mode": {
    "name": "ipython",
    "version": 3
   },
   "file_extension": ".py",
   "mimetype": "text/x-python",
   "name": "python",
   "nbconvert_exporter": "python",
   "pygments_lexer": "ipython3",
   "version": "3.11.8"
  }
 },
 "nbformat": 4,
 "nbformat_minor": 2
}
