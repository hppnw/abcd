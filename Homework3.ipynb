{
 "cells": [
  {
   "cell_type": "markdown",
   "metadata": {},
   "source": [
    "1.编写 Python程序,判断输入a是否为质数"
   ]
  },
  {
   "cell_type": "code",
   "execution_count": 1,
   "metadata": {},
   "outputs": [
    {
     "name": "stdout",
     "output_type": "stream",
     "text": [
      "True\n"
     ]
    }
   ],
   "source": [
    "def is_prim(num):\n",
    "    i=2\n",
    "    n=0\n",
    "    for i in range(2,num):\n",
    "        if num % i !=0 and num>1:\n",
    "            n=n+1\n",
    "    if n==num-2:\n",
    "        return True\n",
    "    return False\n",
    "\n",
    "num=int(input(\"请输入一个数\"))\n",
    "print(is_prim(num))"
   ]
  },
  {
   "cell_type": "markdown",
   "metadata": {},
   "source": [
    "2.用Python实现插入排序该算法，不允许直接调用插入排序函数，需要手动实现其逻辑过程。"
   ]
  },
  {
   "cell_type": "code",
   "execution_count": 7,
   "metadata": {},
   "outputs": [
    {
     "name": "stdout",
     "output_type": "stream",
     "text": [
      "排序后的数组： ['1', '1', '2', '2', '4', '4', '6', '6', '7', '7']\n"
     ]
    }
   ],
   "source": [
    "def insert(n,arr):\n",
    "    for i in range(1,n):\n",
    "        key = arr[i]\n",
    "        j=i-1\n",
    "        while j>=0 and arr[j]>key:\n",
    "            arr[j+1]=arr[j]\n",
    "            j-=1\n",
    "        arr[j+1]=key\n",
    "\n",
    "    return arr\n",
    "\n",
    "arr = input(\"请输入一个整数数组，并用空格分隔：\")\n",
    "arr=arr.split(' ')\n",
    "n=len(arr)\n",
    "print(\"排序后的数组：\",insert(n,arr))"
   ]
  },
  {
   "cell_type": "markdown",
   "metadata": {},
   "source": [
    "3.用Python实现选择排序该算法，不允许直接调用选择排序函数，需要手动实现其逻辑过程。"
   ]
  },
  {
   "cell_type": "code",
   "execution_count": 5,
   "metadata": {},
   "outputs": [
    {
     "name": "stdout",
     "output_type": "stream",
     "text": [
      "排序后的数组： ['1', '2', '3', '4', '6', '7']\n"
     ]
    }
   ],
   "source": [
    "def selection(arr):\n",
    "    for i in range(len(arr)):\n",
    "        min = i\n",
    "        for j in range(i+1, len(arr)):\n",
    "            if arr[j] < arr[min]:\n",
    "                min = j\n",
    "        arr[i], arr[min] = arr[min], arr[i]\n",
    "    return arr\n",
    "\n",
    "arr = input(\"请输入一个整数数组，并用空格分隔：\").split(' ')\n",
    "print(\"排序后的数组：\", selection(arr))"
   ]
  },
  {
   "cell_type": "markdown",
   "metadata": {},
   "source": [
    "4.用Python实现快速排序该算法，不允许直接调用快速排序函数，需要手动实现其逻辑过程。"
   ]
  },
  {
   "cell_type": "code",
   "execution_count": 4,
   "metadata": {},
   "outputs": [
    {
     "name": "stdout",
     "output_type": "stream",
     "text": [
      "排序后的数组： [1, 1, 1, 3, 5, 6, 8, 11]\n"
     ]
    }
   ],
   "source": [
    "def quick_sort(arr):\n",
    "    if len(arr) <= 1:  # # 如果数组为空或只有一个元素，直接返回\n",
    "        return arr\n",
    "\n",
    "    pivot = arr[len(arr) // 2]\n",
    "    left = [x for x in arr if x < pivot]\n",
    "    middle = [x for x in arr if x == pivot]\n",
    "    right = [x for x in arr if x > pivot]\n",
    "    return quick_sort(left) + middle + quick_sort(right)\n",
    "\n",
    "arr = input(\"请输入一个整数数组，并用空格分隔：\").split(' ')\n",
    "arr = list(map(int, arr))  # 将输入转换为整数\n",
    "print(\"排序后的数组：\", quick_sort(arr))"
   ]
  },
  {
   "cell_type": "markdown",
   "metadata": {},
   "source": [
    "5.使用 Python 随机生成三组长度递增的随机数列，长度分别为100、1000、10000，对生成的随机数组使用不同的排序算法，例如选择排序和归并排序，至少三种排序方法。对这些数列的数据排序，并分析不同排序算法在不同长度数列下的运行效果，例如运行时间等指标。（可以使用排序函数）"
   ]
  },
  {
   "cell_type": "code",
   "execution_count": 8,
   "metadata": {},
   "outputs": [
    {
     "name": "stdout",
     "output_type": "stream",
     "text": [
      "\n",
      "数组长度: 100\n",
      "Quick sort 用时: 0.000068733 秒\n",
      "Merge sort 用时: 0.000078600 秒\n",
      "Insertion 用时: 0.000102033 秒\n",
      "Heap sort 用时: 0.000083000 秒\n",
      "Built-in Sort 用时: 0.000005467 秒\n",
      "\n",
      "数组长度: 1000\n",
      "Quick sort 用时: 0.000776433 秒\n",
      "Merge sort 用时: 0.000999667 秒\n",
      "Insertion 用时: 0.011635833 秒\n",
      "Heap sort 用时: 0.001366700 秒\n",
      "Built-in Sort 用时: 0.000044533 秒\n",
      "\n",
      "数组长度: 10000\n",
      "Quick sort 用时: 0.010070433 秒\n",
      "Merge sort 用时: 0.013506367 秒\n",
      "Insertion 用时: 1.224045667 秒\n",
      "Heap sort 用时: 0.019135833 秒\n",
      "Built-in Sort 用时: 0.000831267 秒\n"
     ]
    }
   ],
   "source": [
    "import random\n",
    "import time\n",
    "#快速排序\n",
    "def quick_sort(arr):\n",
    "    if len(arr) <= 1:\n",
    "        return arr\n",
    "    else:\n",
    "        pivot = arr[0]\n",
    "        left = [x for x in arr[1:] if x < pivot]\n",
    "        right = [x for x in arr[1:] if x >= pivot]\n",
    "        return quick_sort(left) + [pivot] + quick_sort(right)\n",
    "\n",
    "# 归并排序算法\n",
    "def merge_sort(arr):\n",
    "    if len(arr) <= 1:\n",
    "            return arr\n",
    "    mid = len(arr) // 2\n",
    "    left = merge_sort(arr[:mid])\n",
    "    right = merge_sort(arr[mid:])\n",
    "    return merge(left, right)\n",
    "\n",
    "def merge(left, right):\n",
    "    result = []\n",
    "    i = j = 0\n",
    "    while i < len(left) and j < len(right):\n",
    "        if left[i] < right[j]:\n",
    "            result.append(left[i])\n",
    "            i += 1\n",
    "        else:\n",
    "            result.append(right[j])\n",
    "            j += 1\n",
    "    result.extend(left[i:])\n",
    "    result.extend(right[j:])\n",
    "    return result\n",
    "\n",
    "# 插入排序算法\n",
    "def insertion_sort(arr):\n",
    "    for i in range(1, len(arr)):\n",
    "        key = arr[i]\n",
    "        j = i - 1\n",
    "        while j >= 0 and key < arr[j]:\n",
    "            arr[j + 1] = arr[j]\n",
    "            j -= 1\n",
    "        arr[j + 1] = key\n",
    "    return arr\n",
    "\n",
    "\n",
    "# 堆排序算法\n",
    "def heapify(arr, n, i):\n",
    "    largest = i\n",
    "    l = 2 * i + 1\n",
    "    r = 2 * i + 2\n",
    "\n",
    "    if l < n and arr[i] < arr[l]:\n",
    "        largest = l\n",
    "\n",
    "    if r < n and arr[largest] < arr[r]:\n",
    "        largest = r\n",
    "\n",
    "    if largest != i:\n",
    "        arr[i], arr[largest] = arr[largest], arr[i]\n",
    "        heapify(arr, n, largest)\n",
    "\n",
    "def heap_sort(arr):\n",
    "    n = len(arr)\n",
    "\n",
    "    for i in range(n // 2 - 1, -1, -1):\n",
    "        heapify(arr, n, i)\n",
    "\n",
    "    for i in range(n-1, 0, -1):\n",
    "        arr[i], arr[0] = arr[0], arr[i]\n",
    "        heapify(arr, i, 0)\n",
    "\n",
    "\n",
    "# 测量运行时间的函数，使用 perf_counter 提高精度，并多次运行以获得平均时间\n",
    "def measure_time(sort_func, arr, repeat=3):\n",
    "    total_time = 0\n",
    "    for _ in range(repeat):\n",
    "        start_time = time.perf_counter()\n",
    "        sort_func(arr.copy())  # 使用 arr 的副本，避免原数组被排序\n",
    "        total_time += time.perf_counter() - start_time\n",
    "    return total_time / repeat  # 返回平均时间\n",
    "\n",
    "\n",
    "\n",
    "# 生成随机数列\n",
    "sizes = [100, 1000, 10000]\n",
    "random_arrays = [random.sample(range(1, 1000000), size) for size in sizes]\n",
    "\n",
    "# 排序算法列表\n",
    "sort_algorithms = {\n",
    "    'Quick sort': quick_sort,\n",
    "    'Merge sort': merge_sort,\n",
    "    'Insertion': insertion_sort,\n",
    "    'Heap sort': heap_sort,\n",
    "    'Built-in Sort': sorted\n",
    "\n",
    "}\n",
    "\n",
    "for size, array in zip(sizes, random_arrays):\n",
    "    print(f\"\\n数组长度: {size}\")\n",
    "    for sort_name, sort_func in sort_algorithms.items():\n",
    "        time_taken = measure_time(sort_func, array)\n",
    "        print(f\"{sort_name} 用时: {time_taken:.9f} 秒\")"
   ]
  },
  {
   "cell_type": "markdown",
   "metadata": {},
   "source": [
    "6.使用python代码获取当前系统时间"
   ]
  },
  {
   "cell_type": "code",
   "execution_count": 9,
   "metadata": {},
   "outputs": [
    {
     "name": "stdout",
     "output_type": "stream",
     "text": [
      "当前的系统时间是： 2024-10-17 17:07:50\n"
     ]
    }
   ],
   "source": [
    "import datetime\n",
    "\n",
    "current_time = datetime.datetime.now()\n",
    "formatted_time = current_time.strftime(\"%Y-%m-%d %H:%M:%S\")\n",
    "print(\"当前的系统时间是：\", formatted_time)"
   ]
  },
  {
   "cell_type": "markdown",
   "metadata": {},
   "source": [
    "7.Homework/data文件夹下的stuGrade.csv文件中包含5位同学的学号、语文成绩、数学成绩和英语成绩，请先用记事本打开该文件，查看文件内容，然后编写Python程序，读取该文件，并计算出各科的平均成绩（保留2位小数）。"
   ]
  },
  {
   "cell_type": "code",
   "execution_count": 10,
   "metadata": {},
   "outputs": [
    {
     "name": "stdout",
     "output_type": "stream",
     "text": [
      "语文平均成绩: 82.60\n",
      "数学平均成绩: 81.00\n",
      "英语平均成绩: 81.80\n"
     ]
    }
   ],
   "source": [
    "import csv\n",
    "\n",
    "total_chinese = 0\n",
    "total_math = 0\n",
    "total_english = 0\n",
    "student_count = 0\n",
    "\n",
    "with open('D:\\\\stuGrade.csv', mode='r', encoding='utf-8') as file:\n",
    "    csv_reader = csv.DictReader(file)\n",
    "    for row in csv_reader:\n",
    "        total_chinese += float(row['chinese'])\n",
    "        total_math += float(row['math'])\n",
    "        total_english += float(row['english'])\n",
    "        student_count += 1\n",
    "\n",
    "average_chinese = total_chinese / student_count\n",
    "average_math = total_math / student_count\n",
    "average_english = total_english / student_count\n",
    "\n",
    "print(f\"语文平均成绩: {average_chinese:.2f}\")\n",
    "print(f\"数学平均成绩: {average_math:.2f}\")\n",
    "print(f\"英语平均成绩: {average_english:.2f}\")"
   ]
  },
  {
   "cell_type": "markdown",
   "metadata": {},
   "source": [
    "8.请在第7题的代码继续编写Python程序，将以下内容写入my.txt文件中，一并上传到github中。\n",
    "\n",
    "    第1行：你的学号和姓名\n",
    "\n",
    "    第2行：3门课程的平均成绩（任意课程），保留2位小数，以英文逗号间隔\n",
    "\n",
    "    第3行：系统当前时间，格式例如2020-01-01 12:00:00\n",
    "\n",
    "    第4行：两秒后的系统当前时间（利用sleep()方法）"
   ]
  },
  {
   "cell_type": "code",
   "execution_count": 11,
   "metadata": {},
   "outputs": [
    {
     "name": "stdout",
     "output_type": "stream",
     "text": [
      "语文平均成绩: 82.60\n",
      "数学平均成绩: 81.00\n",
      "英语平均成绩: 81.80\n"
     ]
    }
   ],
   "source": [
    "import csv\n",
    "import datetime\n",
    "import time\n",
    "\n",
    "total_chinese = 0\n",
    "total_math = 0\n",
    "total_english = 0\n",
    "student_count = 0\n",
    "\n",
    "with open('D:\\\\stuGrade.csv', mode='r', encoding='utf-8') as file:\n",
    "    csv_reader = csv.DictReader(file)\n",
    "    for row in csv_reader:\n",
    "        total_chinese += float(row['chinese'])\n",
    "        total_math += float(row['math'])\n",
    "        total_english += float(row['english'])\n",
    "        student_count += 1\n",
    "\n",
    "average_chinese = total_chinese / student_count\n",
    "average_math = total_math / student_count\n",
    "average_english = total_english / student_count\n",
    "\n",
    "print(f\"语文平均成绩: {average_chinese:.2f}\")\n",
    "print(f\"数学平均成绩: {average_math:.2f}\")\n",
    "print(f\"英语平均成绩: {average_english:.2f}\")\n",
    "\n",
    "with open('D:\\\\my.txt', mode='w', encoding='utf-8') as myfile:\n",
    "    myfile.write(\"学号：10235501462, 姓名：马舒童\\n\")\n",
    "    myfile.write(f\"{average_chinese:.2f}, {average_math:.2f}, {average_english:.2f}\\n\")\n",
    "    current_time = datetime.datetime.now().strftime(\"%Y-%m-%d %H:%M:%S\")\n",
    "    myfile.write(f\"{current_time}\\n\")\n",
    "    time.sleep(2)\n",
    "    future_time = datetime.datetime.now().strftime(\"%Y-%m-%d %H:%M:%S\")\n",
    "    myfile.write(f\"{future_time}\\n\")"
   ]
  }
 ],
 "metadata": {
  "kernelspec": {
   "display_name": "Python 3",
   "language": "python",
   "name": "python3"
  },
  "language_info": {
   "codemirror_mode": {
    "name": "ipython",
    "version": 3
   },
   "file_extension": ".py",
   "mimetype": "text/x-python",
   "name": "python",
   "nbconvert_exporter": "python",
   "pygments_lexer": "ipython3",
   "version": "3.11.8"
  }
 },
 "nbformat": 4,
 "nbformat_minor": 2
}
